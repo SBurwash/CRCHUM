{
 "cells": [
  {
   "cell_type": "markdown",
   "metadata": {
    "collapsed": true
   },
   "source": [
    "# Functions notebook"
   ]
  },
  {
   "cell_type": "markdown",
   "metadata": {},
   "source": [
    "## Preprocess 10X"
   ]
  },
  {
   "cell_type": "code",
   "execution_count": 7,
   "metadata": {},
   "outputs": [
    {
     "name": "stdout",
     "output_type": "stream",
     "text": [
      "hello\n"
     ]
    }
   ],
   "source": [
    "#' This function takes a data-frame (genes x cells), \n",
    "#' creates a Scprep object with it and filters the object for default tags such as  \n",
    "#' Min and max nFeature_RNA and % of MT\n",
    "#' \n",
    "#'\n",
    "#' @param data data-frame\n",
    "#' @param percent_mt integer [0-100]\n",
    "#' @param max_features integer [0-Inf]\n",
    "#' @param min_features integer [0-Inf]\n",
    "#' @return Preprocessed Seurat object\n",
    "#' @export\n",
    "\n",
    "def preprocess_10X(data, name='10X-project', percent_mt=20, max_features=5000, min_features=200):\n",
    "    \n",
    "    scprep_data = scprep.filter.filter_empty_cells(data)\n",
    "    scprep_data = scprep.filter.filter_empty_genes(scprep_data)\n",
    "#     scprep_data = scprep.filter.filter_library_size(data_uf, cutoff=25000, keep_cells='below')\n",
    "        \n",
    "        \n",
    "preprocess_10X(\"meh\")"
   ]
  },
  {
   "cell_type": "code",
   "execution_count": null,
   "metadata": {},
   "outputs": [],
   "source": []
  }
 ],
 "metadata": {
  "kernelspec": {
   "display_name": "Python 3",
   "language": "python",
   "name": "python3"
  },
  "language_info": {
   "codemirror_mode": {
    "name": "ipython",
    "version": 3
   },
   "file_extension": ".py",
   "mimetype": "text/x-python",
   "name": "python",
   "nbconvert_exporter": "python",
   "pygments_lexer": "ipython3",
   "version": "3.7.2"
  }
 },
 "nbformat": 4,
 "nbformat_minor": 1
}
