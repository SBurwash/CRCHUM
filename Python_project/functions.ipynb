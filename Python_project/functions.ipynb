{
 "cells": [
  {
   "cell_type": "markdown",
   "metadata": {
    "collapsed": true
   },
   "source": [
    "# Functions notebook"
   ]
  },
  {
   "cell_type": "markdown",
   "metadata": {},
   "source": [
    "## Preprocess 10X"
   ]
  },
  {
   "cell_type": "code",
   "execution_count": null,
   "metadata": {},
   "outputs": [],
   "source": [
    "#' This function takes a data-frame (genes x cells), \n",
    "#' creates a Scprep object with it and filters the object for default tags such as  \n",
    "#' Min and max nFeature_RNA and % of MT\n",
    "#' \n",
    "#'\n",
    "#' @param data data-frame\n",
    "#' @param percent_mt integer [0-100]\n",
    "#' @param max_features integer [0-Inf]\n",
    "#' @param min_features integer [0-Inf]\n",
    "#' @return Preprocessed Seurat object\n",
    "#' @export\n",
    "\n",
    "def preprocess_10X(data, name='10X-project', percent_mt=20, max_features=5000, min_features=200):\n",
    "    \n",
    "    #Remove empty cells and empty genes\n",
    "    scprep_data = scprep.filter.filter_empty_cells(data)\n",
    "    scprep_data = scprep.filter.filter_empty_genes(scprep_data)\n",
    "    \n",
    "    #Remove elements based on mythocondrial percentage\n",
    "    mt_genes = scprep.select.get_gene_set(data, starts_with=[\"MT-\", \"mt-\"])\n",
    "    scprep_data = scprep.filter.filter_gene_set_expression(scprep_data, genes=mt_genes, percentile=100-percent_mt)\n",
    "    \n",
    "    #Remove elements based on number of cell and number of features\n",
    "    screp_data = screp.filter.filter_gene_set_expression(data=screp_data, cutoff=(min_features, max_features), keep_cells='between')\n",
    "    screp_data = scprep.filter.filter_rare_genes(screp_data, cutoff=0, min_cells=3)\n",
    "\n",
    "    return scprep_data\n",
    "        \n"
   ]
  },
  {
   "cell_type": "markdown",
   "metadata": {},
   "source": [
    "## Load 10X"
   ]
  },
  {
   "cell_type": "code",
   "execution_count": 10,
   "metadata": {},
   "outputs": [],
   "source": [
    "#' This function takes the path to a 10X output folder and instanciates the Seurat object\n",
    "#'\n",
    "#' @param file string (path to file)\n",
    "#' @param percent_mt integer [0-100]\n",
    "#' @param max_features integer [0-Inf]\n",
    "#' @param min_features integer [0-Inf]\n",
    "#' @return Preprocessed Seurat object\n",
    "#' @export\n",
    "\n",
    "def load_10X(dir_path, name='10X-project',percent_mt=20, max_features=5000, min_features=200):\n",
    "    data = scprep.io.load_10X(dir_path, sparse=True, gene_labels='both')\n",
    "    return preprocess_10X(data)"
   ]
  }
 ],
 "metadata": {
  "kernelspec": {
   "display_name": "Python 3",
   "language": "python",
   "name": "python3"
  },
  "language_info": {
   "codemirror_mode": {
    "name": "ipython",
    "version": 3
   },
   "file_extension": ".py",
   "mimetype": "text/x-python",
   "name": "python",
   "nbconvert_exporter": "python",
   "pygments_lexer": "ipython3",
   "version": "3.7.2"
  }
 },
 "nbformat": 4,
 "nbformat_minor": 1
}
